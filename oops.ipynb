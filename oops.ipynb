{
  "nbformat": 4,
  "nbformat_minor": 0,
  "metadata": {
    "colab": {
      "name": "oops.ipynb",
      "provenance": [],
      "authorship_tag": "ABX9TyMSMDKohR2ZKoq3kxhKh9xE",
      "include_colab_link": true
    },
    "kernelspec": {
      "name": "python3",
      "display_name": "Python 3"
    },
    "language_info": {
      "name": "python"
    }
  },
  "cells": [
    {
      "cell_type": "markdown",
      "metadata": {
        "id": "view-in-github",
        "colab_type": "text"
      },
      "source": [
        "<a href=\"https://colab.research.google.com/github/Ali-Asgar-Lakdawala/oops/blob/main/oops.ipynb\" target=\"_parent\"><img src=\"https://colab.research.google.com/assets/colab-badge.svg\" alt=\"Open In Colab\"/></a>"
      ]
    },
    {
      "cell_type": "code",
      "source": [
        "class student():\n",
        "  global species\n",
        "  species='homo sapiens'\n",
        "\n",
        "  #class variable\n",
        "  siblings=0\n",
        "\n",
        "  def __init__(self,name,address,phone_no,email):\n",
        "    #instance variable\n",
        "    self.name=name\n",
        "    self.address=address\n",
        "    self.phone_no=phone_no\n",
        "    self.email=email\n",
        "    self.comp=self.computer()\n",
        "  \n",
        "\n",
        "  def describe (self):\n",
        "    print(f'person {self.name} personal info is \\n{self.address}\\n{self.phone_no}\\n{self.email}',)\n",
        "    self.comp.describe()\n",
        "\n",
        "  def update(self,name,address,phone_no,email):\n",
        "    self.name=name\n",
        "    self.address=address\n",
        "    self.phone_no=phone_no\n",
        "    self.email=email\n",
        "\n",
        "  #a method which inputs the class variables\n",
        "  @classmethod\n",
        "  def change_info(cls,x):\n",
        "    cls.siblings=x\n",
        "\n",
        "  #a method whic does not include any variable neither from class nore from instance\n",
        "  @staticmethod\n",
        "  def something():\n",
        "    print('afjafalkj')\n",
        "\n",
        "  #class within a class(inner class)\n",
        "  class computer():\n",
        "\n",
        "    def __init__(self):\n",
        "      self.c_type='desktop'\n",
        "      self.name='asus'\n",
        "      self.ram='8gb'\n",
        "      self.cpu='i5'\n",
        "    \n",
        "    def describe(self):\n",
        "      print(self.c_type,self.name,self.ram,self.cpu)\n"
      ],
      "metadata": {
        "id": "QKPVvgxJ0WT5"
      },
      "execution_count": 253,
      "outputs": []
    },
    {
      "cell_type": "code",
      "source": [
        "#child class to inherent all the functions of parent class\n",
        "class child(student):\n",
        "  \n",
        "  def function1(self):\n",
        "    print('child class')"
      ],
      "metadata": {
        "id": "pwLhB2OfYF9t"
      },
      "execution_count": 268,
      "outputs": []
    },
    {
      "cell_type": "code",
      "source": [
        ""
      ],
      "metadata": {
        "id": "9VzePkjteMqD"
      },
      "execution_count": null,
      "outputs": []
    },
    {
      "cell_type": "code",
      "source": [
        "name1=student('ali','501',992083,'aliasgar@gmail')\n",
        "name2=child('abbas','501',992083,'aliasgar@gmail')"
      ],
      "metadata": {
        "id": "A6vKFLPCKlXX"
      },
      "execution_count": 269,
      "outputs": []
    },
    {
      "cell_type": "code",
      "source": [
        "name1.describe()"
      ],
      "metadata": {
        "colab": {
          "base_uri": "https://localhost:8080/"
        },
        "id": "jL8oWxQSo0bZ",
        "outputId": "4dd06387-2416-439c-ef4b-8abd769f1128"
      },
      "execution_count": 270,
      "outputs": [
        {
          "output_type": "stream",
          "name": "stdout",
          "text": [
            "person ali personal info is \n",
            "501\n",
            "992083\n",
            "aliasgar@gmail\n",
            "desktop asus 8gb i5\n"
          ]
        }
      ]
    },
    {
      "cell_type": "code",
      "source": [
        "name2.function1()"
      ],
      "metadata": {
        "colab": {
          "base_uri": "https://localhost:8080/"
        },
        "id": "VzifBaQWWHMF",
        "outputId": "9f101af8-3633-410b-99c0-a68bb69ab6a4"
      },
      "execution_count": 271,
      "outputs": [
        {
          "output_type": "stream",
          "name": "stdout",
          "text": [
            "child class\n"
          ]
        }
      ]
    }
  ]
}